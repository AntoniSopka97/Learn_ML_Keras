{
  "nbformat": 4,
  "nbformat_minor": 0,
  "metadata": {
    "colab": {
      "provenance": [],
      "gpuType": "T4",
      "mount_file_id": "18z22f6q0YKAqECsyBGEoKJnTvflVlMBR",
      "authorship_tag": "ABX9TyMnVDyEF/ufHUoOWrLPHBON",
      "include_colab_link": true
    },
    "kernelspec": {
      "name": "python3",
      "display_name": "Python 3"
    },
    "language_info": {
      "name": "python"
    },
    "accelerator": "GPU"
  },
  "cells": [
    {
      "cell_type": "markdown",
      "metadata": {
        "id": "view-in-github",
        "colab_type": "text"
      },
      "source": [
        "<a href=\"https://colab.research.google.com/github/AntoniSopka97/Learn_ML_Keras/blob/main/ML_Keras_with_Tensorflow.ipynb\" target=\"_parent\"><img src=\"https://colab.research.google.com/assets/colab-badge.svg\" alt=\"Open In Colab\"/></a>"
      ]
    },
    {
      "cell_type": "code",
      "execution_count": 17,
      "metadata": {
        "id": "sdC7Z39OuRnd"
      },
      "outputs": [],
      "source": [
        "import numpy as np\n",
        "from random import randint\n",
        "from sklearn.utils import shuffle\n",
        "from sklearn.preprocessing import MinMaxScaler\n",
        "import matplotlib.pyplot as plt\n",
        "import pandas as pd\n"
      ]
    },
    {
      "cell_type": "markdown",
      "source": [
        "#Generation and Prepare custom data\n",
        "Экспериментальный преппарат был протестирован на лицах в возрасте от 10 до 100 лет.\n",
        "1. В результате выборка составива 2100 человек из который половина была младше 65.\n",
        "2. Около 95% пациентов в возрасте 65 лет и старше испытывали побочные эффекты.\n",
        "3. Около 95% пациентов в возрасте до 65 лет не испытывали побочный эффектов"
      ],
      "metadata": {
        "id": "n7R-7hpguc_T"
      }
    },
    {
      "cell_type": "code",
      "source": [
        "train_labels = [] # 0 - нет побочных эффектов 1 - есть побочные эффекты\n",
        "train_samples = [] # возраст\n",
        "test_labels = []\n",
        "test_samples = []"
      ],
      "metadata": {
        "id": "7R6l8g4SvQqO"
      },
      "execution_count": 116,
      "outputs": []
    },
    {
      "cell_type": "code",
      "source": [
        "#Генерация данных \n",
        "def data_gen(samples, labels):\n",
        "  for i in range(50):\n",
        "    # 5% молодых пациентов испытавшие побочные эффекты\n",
        "    random_younger = randint(10,65)\n",
        "    samples.append(random_younger)\n",
        "    labels.append(1)\n",
        "\n",
        "    # 5% пацентов в возрасте не испытавших побочных эффектов\n",
        "    random_older= randint(65,100)\n",
        "    samples.append(random_older)\n",
        "    labels.append(0)\n",
        "\n",
        "  for i in range(1000):\n",
        "    # 95% молодых пациентов не испытавшие побочные эффекты\n",
        "    random_younger = randint(10,65)\n",
        "    samples.append(random_younger)\n",
        "    labels.append(0)\n",
        "\n",
        "    # 95% пацентов в возрасте испытавшие побочных эффектов\n",
        "    random_older= randint(65,100)\n",
        "    samples.append(random_older)\n",
        "    labels.append(1)\n",
        "\n",
        "  return samples, labels"
      ],
      "metadata": {
        "id": "w3gVlZyBwc0U"
      },
      "execution_count": 117,
      "outputs": []
    },
    {
      "cell_type": "code",
      "source": [
        "train_samples, train_labels = data_gen(train_samples,train_labels)\n",
        "test_samples, test_labels = data_gen(test_samples,test_labels)"
      ],
      "metadata": {
        "id": "fQn5Gb1mB369"
      },
      "execution_count": 118,
      "outputs": []
    },
    {
      "cell_type": "code",
      "source": [
        "train_labels = np.array(train_labels)\n",
        "train_samples = np.array(train_samples)\n",
        "train_labels, train_samples = shuffle(train_labels, train_samples)\n",
        "\n",
        "\n",
        "test_labels = np.array(train_labels)\n",
        "test_samples = np.array(train_samples)\n",
        "test_samples, test_labels = shuffle(test_samples, test_labels)"
      ],
      "metadata": {
        "id": "-WT-ANbJyAK8"
      },
      "execution_count": 119,
      "outputs": []
    },
    {
      "cell_type": "code",
      "source": [
        "scaler = MinMaxScaler(feature_range=(0,1))\n",
        "scaled_train_samples = scaler.fit_transform(train_samples.reshape(-1,1))\n",
        "scaled_test_samples = scaler.fit_transform(test_samples.reshape(-1,1))\n"
      ],
      "metadata": {
        "id": "z2EUTzj7yo20"
      },
      "execution_count": 120,
      "outputs": []
    },
    {
      "cell_type": "markdown",
      "source": [
        "# Простая модель прямого распространения (tf.kearas Sequential Model)"
      ],
      "metadata": {
        "id": "WApNmOqiy8Cb"
      }
    },
    {
      "cell_type": "code",
      "source": [
        "import tensorflow as tf\n",
        "from tensorflow import keras\n",
        "from keras.models import Sequential\n",
        "from keras.layers import Activation, Dense\n",
        "from keras.optimizers import Adam\n",
        "from keras.metrics import categorical_crossentropy"
      ],
      "metadata": {
        "id": "S_UksAF1y1vc"
      },
      "execution_count": 121,
      "outputs": []
    },
    {
      "cell_type": "code",
      "source": [
        "physical_device = tf.config.experimental.list_physical_devices('GPU')\n",
        "print(\"Num GPU:\", len(physical_device))\n",
        "tf.config.experimental.set_memory_growth(physical_device[0], True)\n"
      ],
      "metadata": {
        "colab": {
          "base_uri": "https://localhost:8080/"
        },
        "id": "LkGYHyiyznkE",
        "outputId": "2904518e-ec36-49b7-84ae-d68a0ec89fdb"
      },
      "execution_count": 122,
      "outputs": [
        {
          "output_type": "stream",
          "name": "stdout",
          "text": [
            "Num GPU: 1\n"
          ]
        }
      ]
    },
    {
      "cell_type": "markdown",
      "source": [
        "#Def Plots Visualizate"
      ],
      "metadata": {
        "id": "vCBKQ01XF06D"
      }
    },
    {
      "cell_type": "code",
      "source": [
        "def plot_history(history):\n",
        "  fig, (ax1, ax2) = plt.subplots(1, 2, figsize=(10, 4))\n",
        "  ax1.plot(history.history['loss'], label='loss')\n",
        "  ax1.plot(history.history['val_loss'], label='val_loss')\n",
        "  ax1.set_xlabel('Epoch')\n",
        "  ax1.set_ylabel('sparse_categorical_crossentropy')\n",
        "  ax1.legend()\n",
        "  \n",
        "  ax1.grid(True)\n",
        "\n",
        "\n",
        "  ax2.plot(history.history['accuracy'], label='accuracy')\n",
        "  ax2.plot(history.history['val_accuracy'], label='val_accuracy')\n",
        "  ax2.set_xlabel('Epoch')\n",
        "  ax2.set_ylabel('Accuracy')\n",
        "  ax2.legend()\n",
        "  ax2.grid(True)\n",
        "\n",
        "\n",
        "\n",
        "  plt.show()"
      ],
      "metadata": {
        "id": "623rbwUG2652"
      },
      "execution_count": 123,
      "outputs": []
    },
    {
      "cell_type": "code",
      "source": [
        "def plot_conflusion_matrix(cm, classes, normalize =False, title = 'Confusion matrix', cmap = plt.cm.Blues):\n",
        "  plt.imshow(cm, interpolation='nearest', cmap=cmap)\n",
        "  plt.title(title)\n",
        "  tick_marks = np.arange(len(classes))\n",
        "  plt.xticks(tick_marks, classes, rotation = 45)\n",
        "  plt.yticks(tick_marks, classes)\n",
        "\n",
        "  if normalize:\n",
        "    cm = cm.astype('float') / cm.sum(axis = 1)[:, np.newaxis]\n",
        "  \n",
        "  print(cm)\n",
        "\n",
        "  thresh = cm.max()/2\n",
        "  for i,j in itertools.product(range(cm.shape[0]), range(cm.shape[1])):\n",
        "    plt.text(j,i, cm[i,j],\n",
        "             horizontalalignment = \"center\",\n",
        "             color = \"white\" if cm[i,j] > thresh else \"black\")\n",
        "  \n",
        "  plt.tight_layout()\n",
        "  plt.ylabel('True label')\n",
        "  plt.ylabel('Predicted label')\n",
        "\n",
        "     \n",
        "\n"
      ],
      "metadata": {
        "id": "WMxe4-qmFzny"
      },
      "execution_count": 150,
      "outputs": []
    },
    {
      "cell_type": "markdown",
      "source": [
        "#Init Model"
      ],
      "metadata": {
        "id": "U6xu73ZfF9SK"
      }
    },
    {
      "cell_type": "code",
      "source": [
        "nn_model  = Sequential([\n",
        "    Dense(units = 16, input_shape = (1,), activation='relu'),\n",
        "    Dense(units = 32, activation='relu'),\n",
        "    Dense(units = 2, activation='softmax')\n",
        "])"
      ],
      "metadata": {
        "id": "p1qIWoLu0dQ8"
      },
      "execution_count": 124,
      "outputs": []
    },
    {
      "cell_type": "code",
      "source": [
        "#summary model\n",
        "nn_model.summary()"
      ],
      "metadata": {
        "colab": {
          "base_uri": "https://localhost:8080/"
        },
        "id": "9Zcpc6Qt05Xk",
        "outputId": "f815b931-e961-4c92-bdc5-9d2f574260f3"
      },
      "execution_count": 125,
      "outputs": [
        {
          "output_type": "stream",
          "name": "stdout",
          "text": [
            "Model: \"sequential_3\"\n",
            "_________________________________________________________________\n",
            " Layer (type)                Output Shape              Param #   \n",
            "=================================================================\n",
            " dense_9 (Dense)             (None, 16)                32        \n",
            "                                                                 \n",
            " dense_10 (Dense)            (None, 32)                544       \n",
            "                                                                 \n",
            " dense_11 (Dense)            (None, 2)                 66        \n",
            "                                                                 \n",
            "=================================================================\n",
            "Total params: 642\n",
            "Trainable params: 642\n",
            "Non-trainable params: 0\n",
            "_________________________________________________________________\n"
          ]
        }
      ]
    },
    {
      "cell_type": "code",
      "source": [
        "nn_model.compile(optimizer = Adam(learning_rate = 0.0001), loss ='sparse_categorical_crossentropy', metrics = ['accuracy'])"
      ],
      "metadata": {
        "id": "HrV79Viu09sT"
      },
      "execution_count": 126,
      "outputs": []
    },
    {
      "cell_type": "code",
      "source": [
        "history = nn_model.fit(\n",
        "    x = scaled_train_samples,\n",
        "    y = train_labels,\n",
        "    batch_size = 128,\n",
        "    epochs= 30,\n",
        "    shuffle = True, \n",
        "    verbose = 2,\n",
        "    validation_split=0.2\n",
        ")"
      ],
      "metadata": {
        "colab": {
          "base_uri": "https://localhost:8080/"
        },
        "id": "66i7eK-C2OAL",
        "outputId": "075344fb-dfed-4828-bd64-0438aa8be9d5"
      },
      "execution_count": 137,
      "outputs": [
        {
          "output_type": "stream",
          "name": "stdout",
          "text": [
            "Epoch 1/30\n",
            "14/14 - 0s - loss: 0.6120 - accuracy: 0.7167 - val_loss: 0.6074 - val_accuracy: 0.7214 - 108ms/epoch - 8ms/step\n",
            "Epoch 2/30\n",
            "14/14 - 0s - loss: 0.6093 - accuracy: 0.7167 - val_loss: 0.6046 - val_accuracy: 0.7214 - 68ms/epoch - 5ms/step\n",
            "Epoch 3/30\n",
            "14/14 - 0s - loss: 0.6066 - accuracy: 0.7268 - val_loss: 0.6018 - val_accuracy: 0.7381 - 62ms/epoch - 4ms/step\n",
            "Epoch 4/30\n",
            "14/14 - 0s - loss: 0.6039 - accuracy: 0.7274 - val_loss: 0.5990 - val_accuracy: 0.7381 - 59ms/epoch - 4ms/step\n",
            "Epoch 5/30\n",
            "14/14 - 0s - loss: 0.6011 - accuracy: 0.7292 - val_loss: 0.5962 - val_accuracy: 0.7524 - 59ms/epoch - 4ms/step\n",
            "Epoch 6/30\n",
            "14/14 - 0s - loss: 0.5984 - accuracy: 0.7345 - val_loss: 0.5933 - val_accuracy: 0.7524 - 58ms/epoch - 4ms/step\n",
            "Epoch 7/30\n",
            "14/14 - 0s - loss: 0.5956 - accuracy: 0.7345 - val_loss: 0.5905 - val_accuracy: 0.7524 - 59ms/epoch - 4ms/step\n",
            "Epoch 8/30\n",
            "14/14 - 0s - loss: 0.5928 - accuracy: 0.7351 - val_loss: 0.5877 - val_accuracy: 0.7595 - 89ms/epoch - 6ms/step\n",
            "Epoch 9/30\n",
            "14/14 - 0s - loss: 0.5900 - accuracy: 0.7452 - val_loss: 0.5849 - val_accuracy: 0.7595 - 66ms/epoch - 5ms/step\n",
            "Epoch 10/30\n",
            "14/14 - 0s - loss: 0.5873 - accuracy: 0.7482 - val_loss: 0.5821 - val_accuracy: 0.7643 - 59ms/epoch - 4ms/step\n",
            "Epoch 11/30\n",
            "14/14 - 0s - loss: 0.5845 - accuracy: 0.7554 - val_loss: 0.5793 - val_accuracy: 0.7643 - 74ms/epoch - 5ms/step\n",
            "Epoch 12/30\n",
            "14/14 - 0s - loss: 0.5817 - accuracy: 0.7554 - val_loss: 0.5763 - val_accuracy: 0.7643 - 63ms/epoch - 5ms/step\n",
            "Epoch 13/30\n",
            "14/14 - 0s - loss: 0.5788 - accuracy: 0.7554 - val_loss: 0.5735 - val_accuracy: 0.7643 - 61ms/epoch - 4ms/step\n",
            "Epoch 14/30\n",
            "14/14 - 0s - loss: 0.5760 - accuracy: 0.7601 - val_loss: 0.5706 - val_accuracy: 0.7690 - 60ms/epoch - 4ms/step\n",
            "Epoch 15/30\n",
            "14/14 - 0s - loss: 0.5731 - accuracy: 0.7631 - val_loss: 0.5677 - val_accuracy: 0.7690 - 64ms/epoch - 5ms/step\n",
            "Epoch 16/30\n",
            "14/14 - 0s - loss: 0.5702 - accuracy: 0.7631 - val_loss: 0.5648 - val_accuracy: 0.7690 - 73ms/epoch - 5ms/step\n",
            "Epoch 17/30\n",
            "14/14 - 0s - loss: 0.5673 - accuracy: 0.7631 - val_loss: 0.5618 - val_accuracy: 0.7690 - 66ms/epoch - 5ms/step\n",
            "Epoch 18/30\n",
            "14/14 - 0s - loss: 0.5644 - accuracy: 0.7679 - val_loss: 0.5589 - val_accuracy: 0.7786 - 61ms/epoch - 4ms/step\n",
            "Epoch 19/30\n",
            "14/14 - 0s - loss: 0.5615 - accuracy: 0.7744 - val_loss: 0.5561 - val_accuracy: 0.7786 - 72ms/epoch - 5ms/step\n",
            "Epoch 20/30\n",
            "14/14 - 0s - loss: 0.5587 - accuracy: 0.7756 - val_loss: 0.5532 - val_accuracy: 0.7857 - 62ms/epoch - 4ms/step\n",
            "Epoch 21/30\n",
            "14/14 - 0s - loss: 0.5558 - accuracy: 0.7792 - val_loss: 0.5504 - val_accuracy: 0.7857 - 61ms/epoch - 4ms/step\n",
            "Epoch 22/30\n",
            "14/14 - 0s - loss: 0.5529 - accuracy: 0.7815 - val_loss: 0.5475 - val_accuracy: 0.7881 - 73ms/epoch - 5ms/step\n",
            "Epoch 23/30\n",
            "14/14 - 0s - loss: 0.5500 - accuracy: 0.7857 - val_loss: 0.5448 - val_accuracy: 0.7881 - 66ms/epoch - 5ms/step\n",
            "Epoch 24/30\n",
            "14/14 - 0s - loss: 0.5472 - accuracy: 0.7917 - val_loss: 0.5419 - val_accuracy: 0.8048 - 72ms/epoch - 5ms/step\n",
            "Epoch 25/30\n",
            "14/14 - 0s - loss: 0.5443 - accuracy: 0.7940 - val_loss: 0.5390 - val_accuracy: 0.8048 - 59ms/epoch - 4ms/step\n",
            "Epoch 26/30\n",
            "14/14 - 0s - loss: 0.5413 - accuracy: 0.7940 - val_loss: 0.5359 - val_accuracy: 0.8048 - 64ms/epoch - 5ms/step\n",
            "Epoch 27/30\n",
            "14/14 - 0s - loss: 0.5383 - accuracy: 0.7940 - val_loss: 0.5330 - val_accuracy: 0.8048 - 60ms/epoch - 4ms/step\n",
            "Epoch 28/30\n",
            "14/14 - 0s - loss: 0.5354 - accuracy: 0.7946 - val_loss: 0.5301 - val_accuracy: 0.8071 - 59ms/epoch - 4ms/step\n",
            "Epoch 29/30\n",
            "14/14 - 0s - loss: 0.5325 - accuracy: 0.8018 - val_loss: 0.5271 - val_accuracy: 0.8071 - 61ms/epoch - 4ms/step\n",
            "Epoch 30/30\n",
            "14/14 - 0s - loss: 0.5295 - accuracy: 0.8018 - val_loss: 0.5242 - val_accuracy: 0.8071 - 60ms/epoch - 4ms/step\n"
          ]
        }
      ]
    },
    {
      "cell_type": "code",
      "source": [
        "plot_history(history)"
      ],
      "metadata": {
        "colab": {
          "base_uri": "https://localhost:8080/",
          "height": 388
        },
        "id": "t5VKAylQ3VoA",
        "outputId": "e087c665-7271-48a6-d212-f6ed229c46a1"
      },
      "execution_count": 138,
      "outputs": [
        {
          "output_type": "display_data",
          "data": {
            "text/plain": [
              "<Figure size 1000x400 with 2 Axes>"
            ],
            "image/png": "[encoded data removed]"
          },
          "metadata": {}
        }
      ]
    },
    {
      "cell_type": "code",
      "source": [
        "from sklearn.metrics import classification_report\n",
        "\n",
        "def get_pred_report(model, x, test_y):\n",
        "  predictions = nn_model.predict(x = x, batch_size= 32, verbose = 0)\n",
        "  predictions = np.argmax(predictions, axis =-1)\n",
        "  print(classification_report(predictions, test_labels))\n",
        "  return predictions"
      ],
      "metadata": {
        "id": "VACt27Q2L84l"
      },
      "execution_count": 160,
      "outputs": []
    },
    {
      "cell_type": "code",
      "source": [
        "from sklearn.metrics import confusion_matrix\n",
        "import itertools"
      ],
      "metadata": {
        "id": "iJ1M9xKuFRLH"
      },
      "execution_count": 161,
      "outputs": []
    },
    {
      "cell_type": "code",
      "source": [
        "predictions = get_pred_report(nn_model,scaled_test_samples,test_labels)"
      ],
      "metadata": {
        "colab": {
          "base_uri": "https://localhost:8080/"
        },
        "id": "kiKyZf_bMZgS",
        "outputId": "b958d97f-7639-43a1-eca3-43e8c4b96571"
      },
      "execution_count": 162,
      "outputs": [
        {
          "output_type": "stream",
          "name": "stdout",
          "text": [
            "              precision    recall  f1-score   support\n",
            "\n",
            "           0       0.64      0.95      0.76       706\n",
            "           1       0.97      0.73      0.83      1394\n",
            "\n",
            "    accuracy                           0.80      2100\n",
            "   macro avg       0.80      0.84      0.80      2100\n",
            "weighted avg       0.86      0.80      0.81      2100\n",
            "\n"
          ]
        }
      ]
    },
    {
      "cell_type": "code",
      "source": [
        "cm = confusion_matrix(y_true = test_labels, y_pred = predictions)"
      ],
      "metadata": {
        "id": "XOfLVWf9FayH"
      },
      "execution_count": 163,
      "outputs": []
    },
    {
      "cell_type": "code",
      "source": [
        "cm_plot_labels = ['no_side_effect', 'side_effect']\n",
        "plot_conflusion_matrix(cm = cm, classes=cm_plot_labels)"
      ],
      "metadata": {
        "colab": {
          "base_uri": "https://localhost:8080/",
          "height": 522
        },
        "id": "_xDxOCTvFub2",
        "outputId": "bc2a7416-4fc7-4653-a9d8-9e5e524a18f6"
      },
      "execution_count": 164,
      "outputs": [
        {
          "output_type": "stream",
          "name": "stdout",
          "text": [
            "[[ 671  379]\n",
            " [  35 1015]]\n"
          ]
        },
        {
          "output_type": "display_data",
          "data": {
            "text/plain": [
              "<Figure size 640x480 with 1 Axes>"
            ],
            "image/png": "[encoded data removed]"
          },
          "metadata": {}
        }
      ]
    },
    {
      "cell_type": "markdown",
      "source": [
        "#1.Save model\n",
        "\n",
        "\n",
        "\n",
        "\n",
        "\n"
      ],
      "metadata": {
        "id": "XzBnWSZ_KXcN"
      }
    },
    {
      "cell_type": "code",
      "source": [
        "import os.path\n",
        "from google.colab import drive\n",
        "from keras.models import load_model\n",
        "\n",
        "path = '/content/drive/MyDrive/Models/ML_Keras/Example_Random_Gen_Data/nn_model.h5'\n",
        "\n",
        "nn_model.save(path)\n",
        "new_model = load_model(path)\n",
        "new_model.summary()"
      ],
      "metadata": {
        "colab": {
          "base_uri": "https://localhost:8080/"
        },
        "id": "tQ0rX2xbKUld",
        "outputId": "59fdb052-d9c8-42c9-c006-43fa20c0470f"
      },
      "execution_count": 167,
      "outputs": [
        {
          "output_type": "stream",
          "name": "stdout",
          "text": [
            "Model: \"sequential_3\"\n",
            "_________________________________________________________________\n",
            " Layer (type)                Output Shape              Param #   \n",
            "=================================================================\n",
            " dense_9 (Dense)             (None, 16)                32        \n",
            "                                                                 \n",
            " dense_10 (Dense)            (None, 32)                544       \n",
            "                                                                 \n",
            " dense_11 (Dense)            (None, 2)                 66        \n",
            "                                                                 \n",
            "=================================================================\n",
            "Total params: 642\n",
            "Trainable params: 642\n",
            "Non-trainable params: 0\n",
            "_________________________________________________________________\n"
          ]
        }
      ]
    },
    {
      "cell_type": "code",
      "source": [
        "predictions = get_pred_report(new_model,scaled_test_samples,test_labels)"
      ],
      "metadata": {
        "colab": {
          "base_uri": "https://localhost:8080/"
        },
        "id": "41vqTOnIMopV",
        "outputId": "aa48778c-3bbd-4d14-a614-5279e4e8af11"
      },
      "execution_count": 168,
      "outputs": [
        {
          "output_type": "stream",
          "name": "stdout",
          "text": [
            "              precision    recall  f1-score   support\n",
            "\n",
            "           0       0.64      0.95      0.76       706\n",
            "           1       0.97      0.73      0.83      1394\n",
            "\n",
            "    accuracy                           0.80      2100\n",
            "   macro avg       0.80      0.84      0.80      2100\n",
            "weighted avg       0.86      0.80      0.81      2100\n",
            "\n"
          ]
        }
      ]
    },
    {
      "cell_type": "markdown",
      "source": [
        "#2.Save model to json / yaml\n",
        "\n"
      ],
      "metadata": {
        "id": "VbVuNhDrNuUX"
      }
    },
    {
      "cell_type": "code",
      "source": [
        "from keras.models import model_from_json\n",
        "from google.colab import drive\n",
        "drive.mount('/content/drive')\n",
        "path = '/content/drive/MyDrive/Models/ML_Keras/Example_Random_Gen_Data/nn_model.js'\n",
        "\n",
        "json_model_str = nn_model.to_json()\n",
        "\n",
        "# upload\n",
        "with open(path, 'w') as f:\n",
        "  f.write(json_model_str)\n",
        "# load\n",
        "with open(path) as f:\n",
        "  js_model = model_from_json(f.read())\n",
        "\n",
        "js_model.summary()"
      ],
      "metadata": {
        "colab": {
          "base_uri": "https://localhost:8080/"
        },
        "id": "9JLL3MaqMtmE",
        "outputId": "80ccc508-57c6-4cf6-c07a-85c36aa634b8"
      },
      "execution_count": 175,
      "outputs": [
        {
          "output_type": "stream",
          "name": "stdout",
          "text": [
            "Drive already mounted at /content/drive; to attempt to forcibly remount, call drive.mount(\"/content/drive\", force_remount=True).\n",
            "Model: \"sequential_3\"\n",
            "_________________________________________________________________\n",
            " Layer (type)                Output Shape              Param #   \n",
            "=================================================================\n",
            " dense_9 (Dense)             (None, 16)                32        \n",
            "                                                                 \n",
            " dense_10 (Dense)            (None, 32)                544       \n",
            "                                                                 \n",
            " dense_11 (Dense)            (None, 2)                 66        \n",
            "                                                                 \n",
            "=================================================================\n",
            "Total params: 642\n",
            "Trainable params: 642\n",
            "Non-trainable params: 0\n",
            "_________________________________________________________________\n"
          ]
        }
      ]
    },
    {
      "cell_type": "markdown",
      "source": [
        "# Save weight"
      ],
      "metadata": {
        "id": "AuBLRG5tRPym"
      }
    },
    {
      "cell_type": "code",
      "source": [
        "from keras.saving.legacy.save import load_weights\n",
        "path = '/content/drive/MyDrive/Models/ML_Keras/Example_Random_Gen_Data/nn_model_weight.h5'\n",
        "\n",
        "nn_model.save_weights(path)\n"
      ],
      "metadata": {
        "id": "6uVOmMRGRRua"
      },
      "execution_count": 184,
      "outputs": []
    },
    {
      "cell_type": "code",
      "source": [
        "# load weights and predict models\n",
        "new_nn_model  = Sequential([\n",
        "    Dense(units = 16, input_shape = (1,), activation='relu'),\n",
        "    Dense(units = 32, activation='relu'),\n",
        "    Dense(units = 2, activation='softmax')\n",
        "])\n",
        "\n",
        "new_nn_model.load_weights(filepath = path)\n",
        "predictions = get_pred_report(new_nn_model,scaled_test_samples,test_labels)\n"
      ],
      "metadata": {
        "colab": {
          "base_uri": "https://localhost:8080/"
        },
        "id": "ami7OyNkRgmR",
        "outputId": "f09b7a35-885b-470a-91bb-edbc7676d686"
      },
      "execution_count": 186,
      "outputs": [
        {
          "output_type": "stream",
          "name": "stdout",
          "text": [
            "              precision    recall  f1-score   support\n",
            "\n",
            "           0       0.64      0.95      0.76       706\n",
            "           1       0.97      0.73      0.83      1394\n",
            "\n",
            "    accuracy                           0.80      2100\n",
            "   macro avg       0.80      0.84      0.80      2100\n",
            "weighted avg       0.86      0.80      0.81      2100\n",
            "\n"
          ]
        }
      ]
    }
  ]
}